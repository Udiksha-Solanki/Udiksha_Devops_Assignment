{
 "cells": [
  {
   "cell_type": "code",
   "execution_count": 5,
   "id": "ab582f22",
   "metadata": {},
   "outputs": [
    {
     "name": "stdout",
     "output_type": "stream",
     "text": [
      "   ID Warehouse_block Mode_of_Shipment  Customer_care_calls  Customer_rating  \\\n",
      "0   1               D           Flight                    4                2   \n",
      "1   2               F           Flight                    4                5   \n",
      "2   3               A           Flight                    2                2   \n",
      "3   4               B           Flight                    3                3   \n",
      "4   5               C           Flight                    2                2   \n",
      "\n",
      "   Cost_of_the_Product  Prior_purchases Product_importance Gender  \\\n",
      "0                  177                3                low      F   \n",
      "1                  216                2                low      M   \n",
      "2                  183                4                low      M   \n",
      "3                  176                4             medium      M   \n",
      "4                  184                3             medium      F   \n",
      "\n",
      "   Discount_offered  Weight_in_gms  Reached.on.Time_Y.N  \n",
      "0                44           1233                    1  \n",
      "1                59           3088                    1  \n",
      "2                48           3374                    1  \n",
      "3                10           1177                    1  \n",
      "4                46           2484                    1  \n",
      "  Warehouse_block Mode_of_Shipment  Customer_care_calls  Customer_rating  \\\n",
      "0               D           Flight                    4                2   \n",
      "1               F           Flight                    4                5   \n",
      "2               A           Flight                    2                2   \n",
      "3               B           Flight                    3                3   \n",
      "4               C           Flight                    2                2   \n",
      "\n",
      "   Cost_of_the_Product  Prior_purchases Product_importance Gender  \\\n",
      "0                  177                3                low      F   \n",
      "1                  216                2                low      M   \n",
      "2                  183                4                low      M   \n",
      "3                  176                4             medium      M   \n",
      "4                  184                3             medium      F   \n",
      "\n",
      "   Discount_offered  Weight_in_gms  Reached_on_Time_Y_N  \n",
      "0                44           1233                    0  \n",
      "1                59           3088                    0  \n",
      "2                48           3374                    0  \n",
      "3                10           1177                    0  \n",
      "4                46           2484                    0  \n"
     ]
    }
   ],
   "source": [
    "# Step 1: Import necessary library\n",
    "import pandas as pd\n",
    "\n",
    "# Step 2: Load the dataset\n",
    "df = pd.read_csv('dataset.csv')\n",
    "\n",
    "# Step 3: Display first 5 rows to understand data\n",
    "print(df.head())\n",
    "\n",
    "# Step 4: Drop the 'ID' column (it’s just an identifier, not useful for prediction)\n",
    "df = df.drop(columns=['ID'])\n",
    "\n",
    "# Step 5: Flip the target labels\n",
    "# Original meaning: 1 = Delayed, 0 = On time\n",
    "# Business requirement: 1 = On time, 0 = Delayed\n",
    "df['Reached_on_Time_Y_N'] = df['Reached.on.Time_Y.N'].apply(lambda x: 0 if x == 1 else 1)\n",
    "\n",
    "# Step 6: Drop old target column\n",
    "df = df.drop(columns=['Reached.on.Time_Y.N'])\n",
    "\n",
    "# Step 7: Show cleaned data\n",
    "print(df.head())"
   ]
  },
  {
   "cell_type": "code",
   "execution_count": 7,
   "id": "df551ef7",
   "metadata": {},
   "outputs": [
    {
     "name": "stdout",
     "output_type": "stream",
     "text": [
      "   Warehouse_block  Mode_of_Shipment  Customer_care_calls  Customer_rating  \\\n",
      "0                3                 0                    4                2   \n",
      "1                4                 0                    4                5   \n",
      "2                0                 0                    2                2   \n",
      "3                1                 0                    3                3   \n",
      "4                2                 0                    2                2   \n",
      "\n",
      "   Cost_of_the_Product  Prior_purchases  Product_importance  Gender  \\\n",
      "0                  177                3                   1       0   \n",
      "1                  216                2                   1       1   \n",
      "2                  183                4                   1       1   \n",
      "3                  176                4                   2       1   \n",
      "4                  184                3                   2       0   \n",
      "\n",
      "   Discount_offered  Weight_in_gms  Reached_on_Time_Y_N  \n",
      "0                44           1233                    0  \n",
      "1                59           3088                    0  \n",
      "2                48           3374                    0  \n",
      "3                10           1177                    0  \n",
      "4                46           2484                    0  \n"
     ]
    }
   ],
   "source": [
    "# Step 1: Import LabelEncoder\n",
    "from sklearn.preprocessing import LabelEncoder\n",
    "\n",
    "# Step 2: Define which columns are categorical\n",
    "cat_cols = ['Warehouse_block', 'Mode_of_Shipment', 'Product_importance', 'Gender']\n",
    "\n",
    "# Step 3: Create an empty dictionary to store encoders (so we can reuse them later)\n",
    "le_dict = {}\n",
    "\n",
    "# Step 4: Loop over each categorical column and apply encoding\n",
    "for col in cat_cols:\n",
    "    le = LabelEncoder()\n",
    "    df[col] = le.fit_transform(df[col])  # Convert text to numbers\n",
    "    le_dict[col] = le  # Save the encoder for later use (like in API)\n",
    "    \n",
    "# Step 5: Show updated data\n",
    "print(df.head())\n"
   ]
  },
  {
   "cell_type": "code",
   "execution_count": 8,
   "id": "e9f6a437",
   "metadata": {},
   "outputs": [
    {
     "name": "stdout",
     "output_type": "stream",
     "text": [
      "Features shape: (10999, 10)\n",
      "Target shape: (10999,)\n"
     ]
    }
   ],
   "source": [
    "# Step 1: Define features (input columns)\n",
    "X = df.drop(columns=['Reached_on_Time_Y_N'])  # All columns except target\n",
    "\n",
    "# Step 2: Define target (output column)\n",
    "y = df['Reached_on_Time_Y_N']  # This is what we want to predict\n",
    "\n",
    "# Step 3: Show shapes\n",
    "print(\"Features shape:\", X.shape)\n",
    "print(\"Target shape:\", y.shape)"
   ]
  },
  {
   "cell_type": "code",
   "execution_count": 9,
   "id": "ce2b5eb2",
   "metadata": {},
   "outputs": [
    {
     "name": "stdout",
     "output_type": "stream",
     "text": [
      "Training features shape: (8799, 10)\n",
      "Test features shape: (2200, 10)\n"
     ]
    }
   ],
   "source": [
    "# Step 1: Import function\n",
    "from sklearn.model_selection import train_test_split\n",
    "\n",
    "# Step 2: Split data (80% train, 20% test)\n",
    "X_train, X_test, y_train, y_test = train_test_split(X, y, test_size=0.2, random_state=42)\n",
    "\n",
    "# Step 3: Show shapes\n",
    "print(\"Training features shape:\", X_train.shape)\n",
    "print(\"Test features shape:\", X_test.shape)"
   ]
  },
  {
   "cell_type": "code",
   "execution_count": 10,
   "id": "276c04d9",
   "metadata": {},
   "outputs": [
    {
     "name": "stdout",
     "output_type": "stream",
     "text": [
      "              precision    recall  f1-score   support\n",
      "\n",
      "           0       0.75      0.65      0.70      1305\n",
      "           1       0.57      0.68      0.62       895\n",
      "\n",
      "    accuracy                           0.66      2200\n",
      "   macro avg       0.66      0.67      0.66      2200\n",
      "weighted avg       0.68      0.66      0.67      2200\n",
      "\n"
     ]
    }
   ],
   "source": [
    "# Step 1: Import model and metrics\n",
    "from sklearn.ensemble import RandomForestClassifier\n",
    "from sklearn.metrics import classification_report\n",
    "\n",
    "# Step 2: Create model object\n",
    "clf = RandomForestClassifier(n_estimators=100, random_state=42)\n",
    "\n",
    "# Step 3: Train the model on training data\n",
    "clf.fit(X_train, y_train)\n",
    "\n",
    "# Step 4: Predict on test data\n",
    "y_pred = clf.predict(X_test)\n",
    "\n",
    "# Step 5: Print evaluation report\n",
    "print(classification_report(y_test, y_pred))"
   ]
  },
  {
   "cell_type": "code",
   "execution_count": 11,
   "id": "06345137",
   "metadata": {},
   "outputs": [
    {
     "name": "stdout",
     "output_type": "stream",
     "text": [
      "Model and encoders saved!\n"
     ]
    }
   ],
   "source": [
    "# Step 1: Import joblib\n",
    "import joblib\n",
    "\n",
    "# Step 2: Save trained model\n",
    "joblib.dump(clf, 'model.pkl')  \n",
    "\n",
    "# Step 3: Save the encoders used\n",
    "joblib.dump(le_dict, 'label_encoders.pkl')\n",
    "\n",
    "print(\"Model and encoders saved!\")\n"
   ]
  },
  {
   "cell_type": "code",
   "execution_count": null,
   "id": "6fc00b8b",
   "metadata": {},
   "outputs": [],
   "source": []
  }
 ],
 "metadata": {
  "kernelspec": {
   "display_name": "Python 3",
   "language": "python",
   "name": "python3"
  },
  "language_info": {
   "codemirror_mode": {
    "name": "ipython",
    "version": 3
   },
   "file_extension": ".py",
   "mimetype": "text/x-python",
   "name": "python",
   "nbconvert_exporter": "python",
   "pygments_lexer": "ipython3",
   "version": "3.10.4"
  }
 },
 "nbformat": 4,
 "nbformat_minor": 5
}
